{
 "cells": [
  {
   "cell_type": "code",
   "execution_count": 26,
   "id": "b53f679b",
   "metadata": {},
   "outputs": [
    {
     "name": "stdout",
     "output_type": "stream",
     "text": [
      "<enumerate object at 0x000001292EEAE0C0>\n",
      "[(0, 'akula'), (1, 'dileep'), (2, 'kumar')]\n"
     ]
    }
   ],
   "source": [
    "list1=[\"akula\",\"dileep\",\"kumar\"]\n",
    "enumerate_obj=enumerate(list1)\n",
    "print(enumerate_obj)\n",
    "print(list(enumerate_obj))"
   ]
  },
  {
   "cell_type": "code",
   "execution_count": 27,
   "id": "af9aac2d",
   "metadata": {},
   "outputs": [
    {
     "name": "stdout",
     "output_type": "stream",
     "text": [
      "<enumerate object at 0x000001292F0096C0>\n",
      "[(15, 'akula'), (16, 'dileep'), (17, 'kumar')]\n"
     ]
    }
   ],
   "source": [
    "list1=[\"akula\",\"dileep\",\"kumar\"]\n",
    "enumerate_obj=enumerate(list1,15)\n",
    "#getting the enumerate object of the alphabetics\n",
    "print(enumerate_obj)\n",
    "print(list(enumerate_obj))"
   ]
  },
  {
   "cell_type": "code",
   "execution_count": 28,
   "id": "060b6a7e",
   "metadata": {},
   "outputs": [
    {
     "name": "stdout",
     "output_type": "stream",
     "text": [
      "1 akula\n",
      "2 dileep\n",
      "3 kumar\n"
     ]
    }
   ],
   "source": [
    "list1=[\"akula\",\"dileep\",\"kumar\"]\n",
    "for count,list1 in enumerate(list1,start=1):\n",
    "    print(count,list1)"
   ]
  },
  {
   "cell_type": "code",
   "execution_count": null,
   "id": "9a67a1a8",
   "metadata": {},
   "outputs": [],
   "source": []
  }
 ],
 "metadata": {
  "kernelspec": {
   "display_name": "Python 3 (ipykernel)",
   "language": "python",
   "name": "python3"
  },
  "language_info": {
   "codemirror_mode": {
    "name": "ipython",
    "version": 3
   },
   "file_extension": ".py",
   "mimetype": "text/x-python",
   "name": "python",
   "nbconvert_exporter": "python",
   "pygments_lexer": "ipython3",
   "version": "3.11.4"
  }
 },
 "nbformat": 4,
 "nbformat_minor": 5
}
